{
 "cells": [
  {
   "cell_type": "markdown",
   "id": "f057ed0a",
   "metadata": {},
   "source": [
    "# Tutorial on MCMC"
   ]
  },
  {
   "cell_type": "code",
   "execution_count": 15,
   "id": "5d90792e",
   "metadata": {},
   "outputs": [],
   "source": [
    "import numpy as np\n",
    "\n",
    "import emcee\n",
    "\n",
    "import sys\n",
    "sys.path.insert(0,\"..\") # this is so it can find pendulum_sbi\n",
    "from pendulum_sbi import pendulum"
   ]
  },
  {
   "cell_type": "markdown",
   "id": "3955fa33",
   "metadata": {},
   "source": [
    "Set this to True if you want to run the MCMC, set it to False if you want to load an MCMC you already ran"
   ]
  },
  {
   "cell_type": "code",
   "execution_count": 8,
   "id": "2314e4d4",
   "metadata": {},
   "outputs": [],
   "source": [
    "run = False\n",
    "# This is where the saved MCMC will live:\n",
    "filename = \"MCMC_chains/chain_normal_prior.h5\""
   ]
  },
  {
   "cell_type": "markdown",
   "id": "6715ca7d",
   "metadata": {},
   "source": [
    "## Demonstrate how the pendulum class works and what its attributes are"
   ]
  },
  {
   "cell_type": "code",
   "execution_count": 22,
   "id": "25b1d32e",
   "metadata": {},
   "outputs": [
    {
     "ename": "TypeError",
     "evalue": "simulate_x() takes 1 positional argument but 2 were given",
     "output_type": "error",
     "traceback": [
      "\u001b[0;31m---------------------------------------------------------------------------\u001b[0m",
      "\u001b[0;31mTypeError\u001b[0m                                 Traceback (most recent call last)",
      "Cell \u001b[0;32mIn[22], line 4\u001b[0m\n\u001b[1;32m      1\u001b[0m theta_o \u001b[38;5;241m=\u001b[39m np\u001b[38;5;241m.\u001b[39marray([\u001b[38;5;241m10\u001b[39m, \u001b[38;5;241m5\u001b[39m, np\u001b[38;5;241m.\u001b[39mpi\u001b[38;5;241m/\u001b[39m\u001b[38;5;241m4\u001b[39m])\n\u001b[1;32m      2\u001b[0m time \u001b[38;5;241m=\u001b[39m  np\u001b[38;5;241m.\u001b[39mlinspace(\u001b[38;5;241m0\u001b[39m, \u001b[38;5;241m10\u001b[39m, \u001b[38;5;241m100\u001b[39m)\n\u001b[0;32m----> 4\u001b[0m true_position \u001b[38;5;241m=\u001b[39m \u001b[43mpendulum\u001b[49m\u001b[38;5;241;43m.\u001b[39;49m\u001b[43mpendulum\u001b[49m\u001b[38;5;241;43m.\u001b[39;49m\u001b[43msimulate_x\u001b[49m\u001b[43m(\u001b[49m\u001b[43mtheta_o\u001b[49m\u001b[43m,\u001b[49m\u001b[43m \u001b[49m\u001b[43mtime\u001b[49m\u001b[43m)\u001b[49m\n\u001b[1;32m      6\u001b[0m theta_o \u001b[38;5;241m=\u001b[39m np\u001b[38;5;241m.\u001b[39marray([\u001b[38;5;241m9\u001b[39m, \u001b[38;5;241m5\u001b[39m, np\u001b[38;5;241m.\u001b[39mpi\u001b[38;5;241m/\u001b[39m\u001b[38;5;241m4\u001b[39m])\n\u001b[1;32m      7\u001b[0m offset_position \u001b[38;5;241m=\u001b[39m pendulum\u001b[38;5;241m.\u001b[39msimulate_x(theta_o, t \u001b[38;5;241m=\u001b[39m time)\n",
      "\u001b[0;31mTypeError\u001b[0m: simulate_x() takes 1 positional argument but 2 were given"
     ]
    }
   ],
   "source": [
    "theta_o = np.array([10, 5, np.pi/4])\n",
    "time =  np.linspace(0, 10, 100)\n",
    "\n",
    "true_position = pendulum.pendulum.simulate_x(theta_o, time)\n",
    "\n",
    "theta_o = np.array([9, 5, np.pi/4])\n",
    "offset_position = pendulum.simulate_x(theta_o, t = time)\n",
    "\n",
    "\n",
    "\n",
    "plt.clf()\n",
    "plt.plot(time, true_position.flatten(), color = 'black')\n",
    "\n",
    "color_list = ['#F0A202','#F18805','#D95D39','#90B494','#7B9E89']\n",
    "for i, offset_gs in enumerate(np.linspace(5,15,5)):\n",
    "    print(i, offset_gs)\n",
    "    theta = np.array([offset_gs, 5, np.pi/4])\n",
    "    \n",
    "    offset_position = pendulum.simulate_x(theta, t = time)\n",
    "    plt.plot(time, offset_position.flatten(), color = color_list[i])\n",
    "    plt.annotate(f'log L = {round(log_likelihood(theta, time, true_position, yerr = 1),2)}, g = {round(offset_gs, 2)}', \n",
    "        xy = (0.02, 0.3 - 0.05*i), xycoords = 'axes fraction', color = color_list[i])\n",
    "plt.xlabel('time')\n",
    "plt.ylabel('x position')\n",
    "plt.show()"
   ]
  },
  {
   "cell_type": "code",
   "execution_count": null,
   "id": "28eb7d1a",
   "metadata": {},
   "outputs": [],
   "source": []
  }
 ],
 "metadata": {
  "kernelspec": {
   "display_name": "Python 3",
   "language": "python",
   "name": "python3"
  },
  "language_info": {
   "codemirror_mode": {
    "name": "ipython",
    "version": 3
   },
   "file_extension": ".py",
   "mimetype": "text/x-python",
   "name": "python",
   "nbconvert_exporter": "python",
   "pygments_lexer": "ipython3",
   "version": "3.9.15"
  }
 },
 "nbformat": 4,
 "nbformat_minor": 5
}
