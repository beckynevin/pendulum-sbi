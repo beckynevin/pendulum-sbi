{
 "cells": [
  {
   "cell_type": "markdown",
   "id": "f057ed0a",
   "metadata": {},
   "source": [
    "# Tutorial on MCMC"
   ]
  },
  {
   "cell_type": "code",
   "execution_count": 2,
   "id": "5d90792e",
   "metadata": {},
   "outputs": [],
   "source": [
    "import emcee"
   ]
  },
  {
   "cell_type": "markdown",
   "id": "3955fa33",
   "metadata": {},
   "source": [
    "Set this to True if you want to run the MCMC, set it to False if you want to load an MCMC you already ran"
   ]
  },
  {
   "cell_type": "code",
   "execution_count": 4,
   "id": "2314e4d4",
   "metadata": {},
   "outputs": [],
   "source": [
    "run = False\n",
    "# This is where the saved MCMC will live:\n",
    "filename = \"MCMC_chains/chain_normal_prior.h5\""
   ]
  },
  {
   "cell_type": "code",
   "execution_count": 8,
   "id": "2e85bac7",
   "metadata": {},
   "outputs": [],
   "source": []
  },
  {
   "cell_type": "code",
   "execution_count": null,
   "id": "1bc76733",
   "metadata": {},
   "outputs": [],
   "source": []
  }
 ],
 "metadata": {
  "kernelspec": {
   "display_name": "Python 3",
   "language": "python",
   "name": "python3"
  },
  "language_info": {
   "codemirror_mode": {
    "name": "ipython",
    "version": 3
   },
   "file_extension": ".py",
   "mimetype": "text/x-python",
   "name": "python",
   "nbconvert_exporter": "python",
   "pygments_lexer": "ipython3",
   "version": "3.9.15"
  }
 },
 "nbformat": 4,
 "nbformat_minor": 5
}
